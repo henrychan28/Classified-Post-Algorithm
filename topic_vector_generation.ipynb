{
 "cells": [
  {
   "cell_type": "code",
   "execution_count": 376,
   "metadata": {
    "collapsed": false
   },
   "outputs": [],
   "source": [
    "from gensim.models import KeyedVectors\n",
    "import pickle\n",
    "from sklearn.decomposition import PCA\n",
    "from sklearn.cluster import KMeans\n",
    "import copy\n",
    "import numpy as np"
   ]
  },
  {
   "cell_type": "code",
   "execution_count": 445,
   "metadata": {
    "collapsed": false
   },
   "outputs": [],
   "source": [
    "model = KeyedVectors.load_word2vec_format('GoogleNews-vectors-negative300.bin', binary=True)"
   ]
  },
  {
   "cell_type": "code",
   "execution_count": 446,
   "metadata": {
    "collapsed": false
   },
   "outputs": [],
   "source": [
    "data_filename='./data/data_with_topics.pickle'\n",
    "with open(data_filename, 'rb') as f:\n",
    "    data = pickle.load(f)"
   ]
  },
  {
   "cell_type": "code",
   "execution_count": 447,
   "metadata": {
    "collapsed": false
   },
   "outputs": [],
   "source": [
    "topics_split = set()\n",
    "for datum in data:\n",
    "    datum['topics_split'] = []\n",
    "    for topic in datum['topics']:\n",
    "        for topic_split in topic.split(' '):\n",
    "            datum['topics_split'].append(topic_split)\n",
    "            topics_split.add(topic_split)"
   ]
  },
  {
   "cell_type": "code",
   "execution_count": 448,
   "metadata": {
    "collapsed": false
   },
   "outputs": [],
   "source": [
    "topics_vector = dict()\n",
    "non_existing_topic_split = set()\n",
    "for topic in topics_split:\n",
    "    try:\n",
    "        topics_vector[topic] = model[topic]\n",
    "    except:\n",
    "        non_existing_topic_split.add(topic)\n",
    "    "
   ]
  },
  {
   "cell_type": "code",
   "execution_count": 449,
   "metadata": {
    "collapsed": false
   },
   "outputs": [],
   "source": [
    "X = []\n",
    "topics_vector_order = []\n",
    "for topic in topics_vector:\n",
    "    X.append(model[topic].tolist())\n",
    "    topics_vector_order.append(topic)"
   ]
  },
  {
   "cell_type": "code",
   "execution_count": 450,
   "metadata": {
    "collapsed": false
   },
   "outputs": [],
   "source": [
    "pca = PCA(n_components=7)\n",
    "X_reduced = pca.fit_transform(X)"
   ]
  },
  {
   "cell_type": "code",
   "execution_count": 451,
   "metadata": {
    "collapsed": false
   },
   "outputs": [],
   "source": [
    "trained_pca = pca.fit(X)"
   ]
  },
  {
   "cell_type": "code",
   "execution_count": 452,
   "metadata": {
    "collapsed": true
   },
   "outputs": [],
   "source": [
    "with open('./data/trained_pca.pickle', 'wb') as f:\n",
    "    pickle.dump(trained_pca, f)"
   ]
  },
  {
   "cell_type": "code",
   "execution_count": 453,
   "metadata": {
    "collapsed": false
   },
   "outputs": [],
   "source": [
    "kmeans = KMeans(n_clusters=15).fit(X_reduced)\n",
    "cluster_centers = kmeans.cluster_centers_"
   ]
  },
  {
   "cell_type": "code",
   "execution_count": 454,
   "metadata": {
    "collapsed": false
   },
   "outputs": [],
   "source": [
    "with open('./data/trained_kmean.pickle', 'wb') as f:\n",
    "    pickle.dump(kmeans, f)"
   ]
  },
  {
   "cell_type": "code",
   "execution_count": 455,
   "metadata": {
    "collapsed": false
   },
   "outputs": [
    {
     "name": "stdout",
     "output_type": "stream",
     "text": [
      "[1]\n"
     ]
    }
   ],
   "source": [
    "with open('./data/trained_kmean.pickle', 'rb') as f:\n",
    "    trained_kmean = pickle.load(f)\n",
    "topic=model[\"War\"]\n",
    "topic_vector=np.empty([1,300])\n",
    "topic_vector[0,]=topic\n",
    "topic_vector = trained_pca.transform(topic_vector)\n",
    "group = trained_kmean.predict(topic_vector)\n",
    "print(group)"
   ]
  },
  {
   "cell_type": "code",
   "execution_count": 435,
   "metadata": {
    "collapsed": false,
    "scrolled": false
   },
   "outputs": [
    {
     "name": "stdout",
     "output_type": "stream",
     "text": [
      "{0: ['Future', 'Tried', 'Demo', 'Eating', 'Influencers', 'Anniversary', 'Crowd', 'Raising', 'Asylum', 'Car', 'Gains', 'Occupy', 'Attacks', 'Rising', 'Espionage', 'Out', 'Tables', 'Virus', 'Summer', 'Revolution', 'Size', 'Offbeat', 'Wedding', 'Clear', 'Book', 'Ice', 'Anew', 'Blood', 'Money', 'Nation', 'Maps', 'Opinion', 'Opportunity', 'Day', 'Connect', 'Blowing', 'Broadcasts', 'Icons', 'Rise', 'Spend', 'Tablet', 'Years', 'Happy', 'Redefining', 'Sights', 'Chart', 'Pets', 'Preview', 'Wild', 'Sweet', 'Races', 'Temptation', 'Weekend', 'Operation', 'Take', 'Inside', 'Lessons', 'Terror', 'Interactives', 'Infographic', 'Online', 'Reflections', 'Going', 'Celebrity', 'Baby', 'Infographics', 'Rails', 'View', 'Eyes', 'Artificial', 'Emotion', 'Weather', 'Interest', 'Showcase', 'Of', 'Time', 'Friend', 'Rate', 'Report', 'Fancy', 'Trends', 'Making', 'Explore', 'Payday', 'Edge', 'Steam', 'Wearable', 'Greatest', 'Obituaries', 'Gun', 'Biz', 'Rules', 'Sounds', 'Drinks', 'Look', 'Reads', 'Spotlight', 'Magazine', 'Digital', 'Watch', 'Knocks', 'Ultimate', 'Gadget', 'Changers', 'Stem', 'Win', 'Focus', 'Dinosaurs', 'Wars', 'Tested', 'See', 'Tsunami', 'Comment', 'Video', 'Breakfast', 'Turmoil', 'Great', 'Beat', 'Mind', 'Go', 'Dessert', 'Top', 'Reviews', 'Game', 'Edition', 'Real', 'Good', 'Week', 'Gadgets', 'Matters', 'How', 'Man', 'Hurricane', 'Dine', 'Me', 'Obsession', 'Suicides', 'Experience', 'Sex', 'Nocturnal', 'Diary', 'Insider', 'Shared', 'Scams', 'Investing', 'Date', 'Extreme', 'Hiking', 'Essentials', 'Points', 'Home', 'Papers', 'Modern', 'Offline', 'Scandal', 'Severe'], 1: ['the', 'Justin', 'Irma', 'Callan', 'new', 'Cecilia', 'Danny', 'Howard', 'is', 'gigs', 'Sarah', 'Donald', 'Sousa', 'Angela', 'running', 'music', 'Nina', 'shopping', 'Now', 'history', 'York', 'days', 'dining', 'Lance', 'formula', 'Just', 'Nelson', 'Mark', 'Marco', 'Gibson', 'showing', 'reviews', 'Zac', 'Fox', 'Our', 'iconic', 'weekend', 'Annie', 'ATV', 'Woods', 'Claus', \"I've\", 'concert', 'Chad', 'McQueen', 'watch', 'Stanley', 'up', 'This', 'Christmas', 'Rafael', 'driving', 'Haughey', 'LOVE', 'Warren', 'Easter', 'ready', \"O'Sullivan\", 'from', 'DM', 'Henderson', 'Sepp', 'Alexander', 'Her', 'difference', 'first', 'now', 'Cook', 'Santa', 'advice', 'Regina', 'Ricky', \"we're\", 'restaurant', 'cons', 'Susan', 'Audemars', 'heiress', 'on', 'Sachs', 'all', 'at', 'with', 'Carrie', 'Roger', 'King', 'season', 'Sam', 'Brett', 'eats', 'line', 'Manny', 'David', 'In', 'Halloween', 'made', 'Jack', 'Anders', 'royalty', 'bar', 'Patrick', 'cars', 'dream', 'So', 'cakes', 'Caspar', 'Canton', 'Tommy', 'recipes', 'Emmanuel', 'Louis', 'Chase', 'selling', 'Bruce', 'Vegas', 'The', \"Valentine's\", 'Nash', 'realm', 'Whyte', 'Chelsea', 'Tim', 'Joshua', 'in', 'What', 'Dubuis', 'for', 'wellness', 'saga', 'Jimmy', 'Mercier', 'tips', 'Anson', 'Frankie', 'Weinstein', 'Robert', 'turns', 'Dan', 'Benny', 'as', 'Neil', 'Sun', 'Snowden', 'true', 'Richard', \"McDonald's\", 'Martin', 'being', 'Raymond', 'Street', 'Rispoli', 'pros', 'JD', 'Abbey', 'Clipperton', 'Ford', 'Jeremy', 'horizon', 'An', 'A', 'interior', 'encounters', 'buy', 'speed', 'Hutchison', 'family', 'Millard', 'Ryder', 'sublime', 'Francis', 'Paul', 'our', 'an', 'Theresa', 'contest', 'it', 'Berry', 'like', 'Armstrong', 'glory', 'Middleton', 'White', 'Jackie', 'Douglas', 'Schofield', 'deck', 'Walt', 'Michael', 'tennis', 'John', 'Rex', 'Rupert', 'Trudeau', 'greatness', 'Tony', 'white', 'Chris', 'Lions', 'roof', 'sail', 'tests', 'Moore', 'Harvey', 'or', 'therapy', 'Siobhan', 'Tiffany', 'Edward', 'Hathaway', 'teens', 'Hall', 'Bubba', 'My', 'California', 'Karis', 'Clearwater', 'design', 'Derek', 'style', 'Kate'], 2: ['HKSAR', 'Guo', 'Chiong', 'Kuok', 'Lor', 'Tsai', 'Kong', 'Kuan', 'Li', 'Ip', 'Liu', 'Leung', 'Kyi', 'Shiming', 'Hai', 'Xiao', 'Pang', 'Zhang', 'Fu', 'Ho', 'Ping', 'Yiu', 'Kok', 'Yew', 'Nanking', 'Yeung', 'Tang', 'Seng', 'Xi', 'Lunar', 'Lin', 'Hu', 'Shui', 'Chang', 'Tsang', 'Sichuan', 'HKU', 'Ng', 'Fung', 'Weiwei', 'Liaoning', 'Lai', 'Chau', 'Yuk', 'Ma', 'Wen', 'Suu', 'Chan', 'Zou', 'Wong', 'Sanya', 'Mong', 'Lam', 'Tai', 'Aung', 'Tak', 'Peng', 'Cheung', 'Hui', 'Xiamen', 'Hung', 'Tam', 'Hong', 'Tso', 'Ai', 'Jianhua', 'Wang', 'Yuan'], 3: ['Korean', 'Tiananmen', 'Bangkok', 'Thailand', 'Asian', 'Ban', 'Diaoyu', 'Yasukuni', 'Hongkong', 'Communist', 'Macau', 'Adulyadej', 'Asean', 'China', 'Beijing', 'Duterte', 'Myanmar', 'Boao', 'Cambodia', 'Xinhua', 'Vietnam', 'Tibet', 'Thai', 'Taiwan', 'Nepal', 'Rohingya', 'Singapore', 'Bhumibol', 'Ashgabat', 'Korea', 'Malaysia', 'Japanese', 'Lanka', 'Chinese', 'Chengdu', 'Macao', 'Bali', 'Bangladesh', 'CEPA', 'Jintao', 'Beidaihe', 'Xiaobo', 'Indonesia', 'Dalai', 'Junta', 'Jiabao', 'Shinawatra', 'Philippines', 'Fukushima', 'Yingluck'], 4: ['Millennial', 'Apple', 'Barack', 'celebrity', 'tech', 'Internet', 'copyright', 'Pixar', 'Startups', 'Nintendo', 'Zuckerberg', 'Google', 'NFL', 'Yahoo!', 'messaging', 'LinkedIn', 'Motorola', 'CNBC', 'Nokia', 'Amazon', 'Starbucks', 'Pokemon', 'Goldman', 'Bolt', 'Netflix', 'Murdoch', 'Jobs', 'HTC', 'audiobooks', 'Amazon.com', 'Intel', 'Twitter', 'NHL', 'Android', 'CEOs', 'gaming', 'Ransomware', 'Bonds', 'Rhapsody', 'WhatsApp', 'Sony', 'innovators', 'NBA', 'Tesla', 'Microsoft', 'Dotcom', 'Buffett', 'celebrities', 'BlackBerry', 'Amazon.Com', 'Facebook', 'Trump', 'hackers', 'Disney', 'iPhone', 'Smartphones', 'Gap'], 5: ['CE', 'Tens', 'Diamonds', 'Ultra', 'Blitz', 'Soccer', 'Lucky', 'Royalty', 'Outdoor', '4th', 'DBC', 'Fine', 'Tiger', \"Poor's\", 'Enigma', 'Around', 'Legacy', 'Golden', 'South', 'Spirits', 'League', 'Tradition', '&', 'Premier', 'KNOTS', 'May', 'Fame', 'Honour', 'Eagle', 'Road', 'North', 'Area', 'Tech', 'Awards', 'States', 'Champions', 'Series', 'KNOT', 'Paradise', 'Link', 'Island', 'Records', 'XXIV', 'Islands', 'Major', 'cruises', 'Trail', 'Fasttrack', 'Zone', 'June', 'One', 'Open', 'Trophy', 'Esports', 'High', 'Sessions', 'Able', 'World', 'Travelled', 'Annual', 'Finals', 'East', 'Grand', 'Eastern', 'Two', 'International', 'July', 'Volcanoes', 'Sand', 'Sixes', 'Cruise', 'Group', 'Super', 'Baseball', 'Reserve', 'Natural', 'Symbol', 'Outside', 'Greater', 'E', 'Basic', 'X', 'Storm', 'Summit', 'Star', 'FC', 'Stage', 'Championship', 'From', 'Games', 'Mansions', 'Banks', 'City', 'Flying', 'Above', 'Race', 'Short', 'Gay', 'Special', 'Kings', 'Uber', 'Century', 'Derby', 'Black', 'Network', 'Precision', 'Parallel', '1', 'Association', 'Reports', 'Pacific', 'Winter', 'Square', 'Dolphin', 'Class', 'Cup', 'HKFC', 'Price', 'Mandatory', 'News', 'LIFE', 'Old', 'v', 'Tropical', 'Only', 'National', 'Park', \"Women's\", 'SC', 'Fire', 'Excellence', 'Club', 'New', 'Year', 'Fair', 'ME', 'Belt', 'Bay', 'Championships', 'First', 'Tour', 'Sea', 'Mobile', 'Next', 'Southern', 'Sale', 'Starting', 'Prize', 'Ocean', 'Masters', 'Today', 'Boar', 'Central', 'Horizon', 'vs', 'Court', 'Spirit', 'Classical', 'Universal', 'Rendezvous', 'On', 'Middle'], 6: ['Wellness', 'Education', 'Cinema', 'Entrepreneurship', 'Literature', 'School', 'Ethnic', 'Dialogue', 'Squash', 'Weddings', 'Cricket', 'Censorship', 'Organisation', 'Heroin', 'Climate', 'Innocence', 'Autonomous', 'Migrant', 'Music', 'Dining', 'Treaty', 'Legislative', 'Social', 'Film', 'Diplomacy', 'Food', 'Science', 'Briefing', 'Archive', 'Disease', 'Collections', 'Human', 'Ageing', 'Nature', 'Politics', 'Criminal', 'Economy', 'Art', 'Tourism', 'Disaster', 'History', 'Budget', 'War', 'Salaries', 'Smoking', 'Careers', 'Press', 'Racism', 'Television', 'Military', 'Traffic', 'Shrine', 'Drugs', 'Philosophy', 'Cybersecurity', 'Rights', 'Urban', 'Culture', 'Crisis', 'Conservation', 'Liberation', 'Feminist', 'Water', 'Ambassador', 'Militancy', 'Monetary', 'Cultural', 'Football', 'Institute', 'Youth', 'Policies', 'Sexual', 'Health', 'Society', 'Living', 'Defence', 'Poverty', 'Festival', 'Medicine', 'LGBTI', 'Crime', 'Economics', 'Arts', 'Tax', 'Philanthropy', 'Religion', 'Party', 'Intelligence', 'Ancient', 'Destination', 'Law', 'Environment', 'Public', 'Women', 'Initiative', 'Architecture', 'Cancer', 'Lifestyle', 'Archaeology', 'Space', 'Corruption', 'Universities'], 7: ['Ashes', 'Blatter', 'Ramadan', 'earthquake', 'IAAF', 'BRICS', 'US', 'Bollywood', 'Afghanistan', 'Usain', 'G7', 'NGOs', 'Ebola', 'Vajiralongkorn', 'sanctions', 'Israel', 'WikiLeaks', 'insurgency', 'Davos', 'Foreign', 'diplomatic', 'terrorist', 'Berlusconi', 'militancy', 'Interpol', 'Yemen', 'Islamic', 'Saudi', 'Eurozone', 'Obama', 'Oxfam', 'nations', 'ICC', 'Muslims', 'Iran', 'Pacquiao', 'Kashmir', 'Mandela', 'BBC', 'diplomacy', 'summit', 'Zimbabwe', 'Olympics', 'nuclear', 'Iraq', 'Egypt', 'Putin', 'IMF', 'Doping', 'Guantanamo', 'Syrian', 'terror', 'Pakistan', 'Merkel', 'Nobel', 'Modi'], 8: ['Shenzhen', 'HKEx', 'CNPC', 'Tencent', 'ZTE', 'BYD', 'Sinopec', 'SmarTone', 'GOME', 'ICBC', 'Softbank', 'Shenhua', 'Sinofert', 'Moutai', 'Baidu', 'Lenovo', 'Temasek', 'Yanzhou', 'Yili', 'Alibaba', 'Sanlu', 'TVB', 'Huawei', 'Mengniu', 'Weibo', 'Unicom', 'Vanke', 'Cathay', 'PetroChina', 'Rusal', 'Fosun', 'CNOOC', 'Asiana', 'Geely', 'Chinachem', 'HKMA', 'Cosco', 'Sina', 'Citic', 'AirAsia', 'SCMP', 'Shanghai'], 9: ['Primera', 'Ukraine', 'Liga', 'Europa', 'Bundesliga', 'Antarctica', 'overseas', 'Serie', 'Russia', 'Nations', 'Panama', 'Euro', 'Honduras', 'Asia', 'French', 'IWC', 'Hamburg', 'Germany', 'Turkey', 'Spain', 'Spanish', 'Arctic', 'Mexico', 'Uefa', 'Sevens', 'UK', 'Peru', 'Brazil', 'Denmark', 'London', 'ESF', 'Qatar', 'European', 'Earthquakes', 'Ligue', 'Japan', 'Nordic', 'MotoGP', 'Poland', 'Madrid', 'Africa', 'Arabia', 'Argentina', 'Venezuelan', 'Austria', 'Rio', 'Irish', 'Canada', 'Manchester', 'British', 'Zealand', 'Russian', 'Formula', 'German', 'Venezuela', 'Italian', 'Americas', 'Australian', 'Fifa', 'India', 'Barcelona', 'Britain', 'global', 'Wimbledon', 'Iceland', 'Italy', 'qualifying', 'Basel', 'Premiership', 'AFC', 'Milan', 'Liverpool', 'France', 'ATP', 'Australia'], 10: ['policy', 'cells', 'cancer', 'council', 'American', 'economy', 'cycling', 'flu', 'reshuffled', 'virus', 'Church', 'Council', 'jets', 'English', 'dispute', 'violence', 'authors', 'zone', 'scheme', 'avian', 'kidnap', 'General', 'management', 'computers', 'relations', 'fire', 'youth', 'sea', 'United', 'EOC', 'domestic', 'regulation', 'logistics', 'scandal', 'agriculture', 'flight', 'payment', 'feud', 'supply', 'Union', 'inauguration', 'reading', 'election', 'language', 'science', 'Army', 'sentiments', 'living', 'services', 'dolphin', 'Clinton', 'Catholic', 'police', 'bill', 'crisis', 'Agency', 'pollution', 'Chief', 'minorities', 'memoirs', 'disaffected', 'security', 'schools', 'planning', 'Times', 'camp', 'crackdown', 'courts', 'taxis', 'greater', 'war', 'address', 'property', 'rescue', 'Federal', 'heritage', 'population', 'aviation', 'disaster', 'stamp', 'kidnapping', 'Post', 'leadership', 'Fairfax', 'weather', 'tourists', 'peninsula', 'University', 'refugee', 'attack', 'workers', 'news', 'controversy', 'border', 'media', 'transport', 'water', 'It', 'riot', 'air', 'military', 'Office', 'cause', 'industry', 'disasters', 'State', 'relationships', 'intelligence', 'education', 'swindles', 'arts', 'freedom', 'duty', 'climate', 'ties', 'safety', 'society', 'march', 'Herald', 'snake', 'rights', 'reform', 'change', 'suicide', 'shooting', 'ponzi', 'attacks', 'budget', 'bridge', 'plane', 'harassment', 'Congress', 'detention', 'food', 'meeting', 'conflict', 'seekers', 'aircraft', 'rail', 'payments', 'Pope', 'housing', 'mass', 'Bitcoin', 'crash', 'suffrage', 'travel', 'ferry', 'road', 'weapons', 'executive', 'future', 'archives', 'politics', 'collapse', 'protests', 'Saying', 'meat'], 11: ['Cartier', 'cinema', 'Cannes', 'Gucci', 'Soho', 'Elegance', 'Venetian', 'Menswear', 'Beauty', 'luxury', 'Fragrances', 'Uniqlo', 'miniatures', 'Rawiller', 'Piaget', 'Watches', 'films', 'garment', 'Fendi', 'Loewe', 'Baselworld', 'Baume', 'Jewellery', 'Piguet', 'Watchmaking', 'SIHH', 'Esprit', 'Burberry', 'Lamborghini', 'Luxury', 'Ferrari', 'Montblanc', 'Vuitton', 'Arpels', 'Brilliance', 'Couture', 'Splendour', 'Haute', 'Guinness', 'Opticians', 'Bossini', 'Fashion', 'Mille', 'album', 'theatrical', 'connoisseurs', 'Heineken', 'yachts', 'Dior', 'Chanel', 'Rolex', 'Rugby', 'wine', 'Jockey', 'Vacheron', 'Prix', 'Panerai', 'Hermes', 'Umberto', 'Bulgari', 'Celine', 'ballet', 'fashion', 'Wine', 'Macron', 'Paris', 'Lingerie', 'Timepieces'], 12: ['Rodrigo', 'Joao', 'Purton', 'Dragon', 'stesso', 'Kei', 'Silvestre', 'Maha', 'San', 'Ngau', 'Bo', 'ICAC', 'Merbok', 'Nirav', 'Jianlin', 'Lee', 'Trailwalker', 'Kai', 'CY', 'le', 'Altiplano', 'Dejiang', 'Qianhai', 'HKUST', 'Psy', 'Prebble', 'Tau', 'Mawar', 'Ulysse', 'Hon', 'Lama', 'Hato', 'Straits', 'Nardin', 'Xinhai', 'Plaza', 'Pandas', 'Typhoon', 'Hang', 'Martial', 'Van', 'et', 'Silvio', 'Narendra', 'Na', 'Shinzo', 'de', 'Cruz', 'HNA', 'Vancouver', 'Lamma', 'Zika', 'Liyuan', 'Moreira', 'NPC', 'Mers', 'Constantin', 'Las', 'Nan', 'Chungking', 'Moon', 'Freedman', 'Wharf', 'seul', 'HKIS', 'SFC', 'Breivik', 'Keqiang', 'Kim', 'Xilai', 'Au', 'Qishan', 'Jinping', 'Ngong', 'Abe', 'Vladimir', 'te', 'Shum', 'Behring', 'Fownes', 'Didi', 'De', 'Kitchee'], 13: ['Toyota', '5G', 'LG', 'Daimler', 'lending', 'BMW', 'Boeing', 'Hyundai', 'SpaceX', 'JPMorgan', 'DJI', 'carriers', 'investment', 'sourcing', 'PGA', 'Chartered', 'stock', 'MTR', 'Volkswagen', 'carrier', 'Deutsche', 'Alumina', 'currencies', 'HSBC', 'Honda', 'Lockheed', 'Barclays', '1MDB', 'Berkshire', 'Industrials', 'Samsung', 'UGL', 'GFI', 'UBS', 'Airbus', 'Cisco', 'Swire', 'IPO', 'CLP', 'Reit', 'Volvo', 'sales', 'MSCI', 'Nissan', 'trading', 'Hysan', 'AIA', 'Airlines', 'RBS', 'market', 'HKEX', 'HKT', 'FinTech'], 14: ['Banking', 'Property', 'Capital', 'Trade', 'Partnership', 'Robotics', 'Global', 'Offshore', 'Mining', 'Auditing', 'Insurance', 'Technology', 'Warehousing', 'Mergers', 'Beverage', 'Accounting', 'Hotels', 'Wealth', 'MPF', 'Computer', 'Business', 'MBA', 'Media', 'Motoring', 'Sports', 'Land', 'Aluminium', 'Electric', 'Consumer', 'Fund', 'Financial', 'Energy', 'Standard', 'Consumers', 'Limited', 'Invest', 'Economic', 'Transport', 'Fintech', 'Asset', 'Aviation', 'Auctions', 'Development', 'Enterprises', 'Stocks', 'Ag', 'Automobiles', 'Pharmaceuticals', 'Holdings', 'Acquisitions', 'Currencies', 'Gaming', 'Commodities', 'Agricultural', 'Regulation', 'Executive', 'Coal', 'Provident', 'Investment', 'Management', 'Infrastructure', 'Auto', 'Recycling', 'Company', 'Industry', 'Exchange', 'Authority', 'Systems', 'Overseas', 'Private', 'Hockey', 'Rental', 'Bank', 'Compliance', 'Corporation', 'Electronics', 'Commerce', 'Forum', 'Index', 'Safety', 'Retail', 'Brands', 'Motors', 'Finance', 'Dairy', 'Travel', 'Stock', 'Engineering', 'Air', 'Shipping', 'Telecom', 'Fitness', 'Market', 'Design', 'Properties', 'Autos']}\n"
     ]
    }
   ],
   "source": [
    "classification = dict()\n",
    "classification_show = dict()\n",
    "for counter, label in enumerate(kmeans.labels_):\n",
    "    classification[topics_vector_order[counter]]=label\n",
    "    if label not in classification_show:\n",
    "        classification_show[label] = [topics_vector_order[counter]]\n",
    "    else:\n",
    "        classification_show[label].append(topics_vector_order[counter])\n",
    "print(classification_show)"
   ]
  },
  {
   "cell_type": "code",
   "execution_count": 371,
   "metadata": {
    "collapsed": true
   },
   "outputs": [],
   "source": [
    "from collections import Counter\n",
    "\n",
    "def mode(L):\n",
    "    group_count = dict()\n",
    "    for i in range(len(L)):\n",
    "        if str(L[i]) not in group_count:\n",
    "            group_count[str(L[i])] = 1\n",
    "        else:\n",
    "            group_count[str(L[i])] += 1\n",
    "    maximum=0\n",
    "    max_key=-1\n",
    "    for key in group_count:\n",
    "        if group_count[key] > maximum:\n",
    "            max_key = key\n",
    "    return int(key)\n",
    "            "
   ]
  },
  {
   "cell_type": "code",
   "execution_count": 372,
   "metadata": {
    "collapsed": false
   },
   "outputs": [],
   "source": [
    "to_be_remove_article_id = []\n",
    "grouped_data = []\n",
    "for datum in data:\n",
    "    group_count = []\n",
    "    for topic in datum['topics_split']:\n",
    "        if topic in classification:\n",
    "            group_count.append(classification[topic])\n",
    "    if group_count != []:\n",
    "        datum['group']=mode(group_count)\n",
    "        grouped_data.append(datum)\n",
    "    else:\n",
    "        pass\n"
   ]
  },
  {
   "cell_type": "code",
   "execution_count": 374,
   "metadata": {
    "collapsed": false
   },
   "outputs": [],
   "source": [
    "with open('./data/data_with_topics_and_group.pickle', 'wb') as f:\n",
    "    pickle.dump(grouped_data, f)"
   ]
  },
  {
   "cell_type": "code",
   "execution_count": 436,
   "metadata": {
    "collapsed": false
   },
   "outputs": [],
   "source": [
    "with open('./data/classification_dictionary.pickle', 'wb') as f:\n",
    "    pickle.dump(classification, f)"
   ]
  },
  {
   "cell_type": "code",
   "execution_count": 402,
   "metadata": {
    "collapsed": false
   },
   "outputs": [
    {
     "data": {
      "text/plain": [
       "'123345'"
      ]
     },
     "execution_count": 402,
     "metadata": {},
     "output_type": "execute_result"
    }
   ],
   "source": [
    "a = \"123\"\n",
    "a + '345'"
   ]
  },
  {
   "cell_type": "code",
   "execution_count": 115,
   "metadata": {
    "collapsed": true
   },
   "outputs": [],
   "source": [
    "def get_dist(vector, center):\n",
    "    if(len(vector)!=len(center)):\n",
    "         raise DimensionError('The dimension of input vector and cetner should be the same')\n",
    "    dim = len(vector)\n",
    "    dist = 0\n",
    "    for i in range(dim):\n",
    "        dist += (vector[i]-center[i])**2\n",
    "    return dist\n",
    "    "
   ]
  },
  {
   "cell_type": "code",
   "execution_count": 443,
   "metadata": {
    "collapsed": false
   },
   "outputs": [],
   "source": [
    "import os\n",
    "current_directory = os.getcwd() + '\\\\data'\n",
    "classification_filename = current_directory + '\\\\classification_dictionary.pickle'\n",
    "with open(classification_filename, 'rb') as f:\n",
    "    classification = pickle.load(f)"
   ]
  },
  {
   "cell_type": "code",
   "execution_count": 444,
   "metadata": {
    "collapsed": false
   },
   "outputs": [
    {
     "data": {
      "text/plain": [
       "8"
      ]
     },
     "execution_count": 444,
     "metadata": {},
     "output_type": "execute_result"
    }
   ],
   "source": [
    "classification['Tencent']"
   ]
  },
  {
   "cell_type": "code",
   "execution_count": null,
   "metadata": {
    "collapsed": true
   },
   "outputs": [],
   "source": []
  }
 ],
 "metadata": {
  "anaconda-cloud": {},
  "kernelspec": {
   "display_name": "Python [conda env:py35]",
   "language": "python",
   "name": "conda-env-py35-py"
  },
  "language_info": {
   "codemirror_mode": {
    "name": "ipython",
    "version": 3
   },
   "file_extension": ".py",
   "mimetype": "text/x-python",
   "name": "python",
   "nbconvert_exporter": "python",
   "pygments_lexer": "ipython3",
   "version": "3.5.4"
  }
 },
 "nbformat": 4,
 "nbformat_minor": 1
}
