{
 "cells": [
  {
   "cell_type": "code",
   "execution_count": 376,
   "metadata": {
    "collapsed": false
   },
   "outputs": [],
   "source": [
    "from gensim.models import KeyedVectors\n",
    "import pickle\n",
    "from sklearn.decomposition import PCA\n",
    "from sklearn.cluster import KMeans\n",
    "import copy\n",
    "import numpy as np"
   ]
  },
  {
   "cell_type": "code",
   "execution_count": 38,
   "metadata": {
    "collapsed": false
   },
   "outputs": [],
   "source": [
    "model = KeyedVectors.load_word2vec_format('GoogleNews-vectors-negative300.bin', binary=True)"
   ]
  },
  {
   "cell_type": "code",
   "execution_count": 369,
   "metadata": {
    "collapsed": false
   },
   "outputs": [],
   "source": [
    "data_filename='./data/data_with_topics.pickle'\n",
    "with open(data_filename, 'rb') as f:\n",
    "    data = pickle.load(f)"
   ]
  },
  {
   "cell_type": "code",
   "execution_count": 370,
   "metadata": {
    "collapsed": false
   },
   "outputs": [],
   "source": [
    "topics_split = set()\n",
    "for datum in data:\n",
    "    datum['topics_split'] = []\n",
    "    for topic in datum['topics']:\n",
    "        for topic_split in topic.split(' '):\n",
    "            datum['topics_split'].append(topic_split)\n",
    "            topics_split.add(topic_split)"
   ]
  },
  {
   "cell_type": "code",
   "execution_count": 352,
   "metadata": {
    "collapsed": false
   },
   "outputs": [],
   "source": [
    "topics_vector = dict()\n",
    "non_existing_topic_split = set()\n",
    "for topic in topics_split:\n",
    "    try:\n",
    "        topics_vector[topic] = model[topic]\n",
    "    except:\n",
    "        non_existing_topic_split.add(topic)\n",
    "    "
   ]
  },
  {
   "cell_type": "code",
   "execution_count": 297,
   "metadata": {
    "collapsed": false
   },
   "outputs": [],
   "source": [
    "X = []\n",
    "topics_vector_order = []\n",
    "for topic in topics_vector:\n",
    "    X.append(model[topic].tolist())\n",
    "    topics_vector_order.append(topic)"
   ]
  },
  {
   "cell_type": "code",
   "execution_count": 298,
   "metadata": {
    "collapsed": false
   },
   "outputs": [],
   "source": [
    "pca = PCA(n_components=7)\n",
    "X_reduced = pca.fit_transform(X)"
   ]
  },
  {
   "cell_type": "code",
   "execution_count": 299,
   "metadata": {
    "collapsed": false
   },
   "outputs": [],
   "source": [
    "trained_pca = pca.fit(X)"
   ]
  },
  {
   "cell_type": "code",
   "execution_count": 300,
   "metadata": {
    "collapsed": true
   },
   "outputs": [],
   "source": [
    "with open('./data/trained_pca.pickle', 'wb') as f:\n",
    "    pickle.dump(trained_pca, f)"
   ]
  },
  {
   "cell_type": "code",
   "execution_count": 301,
   "metadata": {
    "collapsed": false
   },
   "outputs": [],
   "source": [
    "kmeans = KMeans(n_clusters=15).fit(X_reduced)\n",
    "cluster_centers = kmeans.cluster_centers_"
   ]
  },
  {
   "cell_type": "code",
   "execution_count": 386,
   "metadata": {
    "collapsed": false
   },
   "outputs": [],
   "source": [
    "with open('./data/trained_kmean.pickle', 'wb') as f:\n",
    "    pickle.dump(kmeans, f)"
   ]
  },
  {
   "cell_type": "code",
   "execution_count": 401,
   "metadata": {
    "collapsed": false
   },
   "outputs": [
    {
     "name": "stdout",
     "output_type": "stream",
     "text": [
      "[10]\n"
     ]
    }
   ],
   "source": [
    "with open('./data/trained_kmean.pickle', 'rb') as f:\n",
    "    trained_kmean = pickle.load(f)\n",
    "topic=model[\"War\"]\n",
    "topic_vector=np.empty([1,300])\n",
    "topic_vector[0,]=topic\n",
    "topic_vector = trained_pca.transform(topic_vector)\n",
    "group = trained_kmean.predict(topic_vector)\n",
    "print(group)"
   ]
  },
  {
   "cell_type": "code",
   "execution_count": 303,
   "metadata": {
    "collapsed": false
   },
   "outputs": [],
   "source": [
    "classification = dict()\n",
    "for counter, label in enumerate(kmeans.labels_):\n",
    "    classification[topics_vector_order[counter]]=label"
   ]
  },
  {
   "cell_type": "code",
   "execution_count": 371,
   "metadata": {
    "collapsed": true
   },
   "outputs": [],
   "source": [
    "from collections import Counter\n",
    "\n",
    "def mode(L):\n",
    "    group_count = dict()\n",
    "    for i in range(len(L)):\n",
    "        if str(L[i]) not in group_count:\n",
    "            group_count[str(L[i])] = 1\n",
    "        else:\n",
    "            group_count[str(L[i])] += 1\n",
    "    maximum=0\n",
    "    max_key=-1\n",
    "    for key in group_count:\n",
    "        if group_count[key] > maximum:\n",
    "            max_key = key\n",
    "    return int(key)\n",
    "            "
   ]
  },
  {
   "cell_type": "code",
   "execution_count": 372,
   "metadata": {
    "collapsed": false
   },
   "outputs": [],
   "source": [
    "to_be_remove_article_id = []\n",
    "grouped_data = []\n",
    "for datum in data:\n",
    "    group_count = []\n",
    "    for topic in datum['topics_split']:\n",
    "        if topic in classification:\n",
    "            group_count.append(classification[topic])\n",
    "    if group_count != []:\n",
    "        datum['group']=mode(group_count)\n",
    "        grouped_data.append(datum)\n",
    "    else:\n",
    "        pass\n"
   ]
  },
  {
   "cell_type": "code",
   "execution_count": 374,
   "metadata": {
    "collapsed": false
   },
   "outputs": [],
   "source": [
    "with open('./data/data_with_topics_and_group.pickle', 'wb') as f:\n",
    "    pickle.dump(grouped_data, f)"
   ]
  },
  {
   "cell_type": "code",
   "execution_count": 150,
   "metadata": {
    "collapsed": false
   },
   "outputs": [],
   "source": [
    "with open('./data/classification_dictionary.pickle', 'wb') as f:\n",
    "    pickle.dump(classification, f)"
   ]
  },
  {
   "cell_type": "code",
   "execution_count": 167,
   "metadata": {
    "collapsed": false
   },
   "outputs": [
    {
     "data": {
      "text/plain": [
       "True"
      ]
     },
     "execution_count": 167,
     "metadata": {},
     "output_type": "execute_result"
    }
   ],
   "source": [
    "a = []\n",
    "type(a)==list"
   ]
  },
  {
   "cell_type": "code",
   "execution_count": 115,
   "metadata": {
    "collapsed": true
   },
   "outputs": [],
   "source": [
    "def get_dist(vector, center):\n",
    "    if(len(vector)!=len(center)):\n",
    "         raise DimensionError('The dimension of input vector and cetner should be the same')\n",
    "    dim = len(vector)\n",
    "    dist = 0\n",
    "    for i in range(dim):\n",
    "        dist += (vector[i]-center[i])**2\n",
    "    return dist\n",
    "    "
   ]
  },
  {
   "cell_type": "code",
   "execution_count": null,
   "metadata": {
    "collapsed": true
   },
   "outputs": [],
   "source": []
  }
 ],
 "metadata": {
  "anaconda-cloud": {},
  "kernelspec": {
   "display_name": "Python [conda env:py35]",
   "language": "python",
   "name": "conda-env-py35-py"
  },
  "language_info": {
   "codemirror_mode": {
    "name": "ipython",
    "version": 3
   },
   "file_extension": ".py",
   "mimetype": "text/x-python",
   "name": "python",
   "nbconvert_exporter": "python",
   "pygments_lexer": "ipython3",
   "version": "3.5.4"
  }
 },
 "nbformat": 4,
 "nbformat_minor": 1
}
